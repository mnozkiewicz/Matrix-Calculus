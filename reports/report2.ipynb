{
 "cells": [
  {
   "cell_type": "code",
   "execution_count": 2,
   "metadata": {},
   "outputs": [],
   "source": [
    "import sys\n",
    "\n",
    "sys.path.append(\"../\")"
   ]
  },
  {
   "cell_type": "code",
   "execution_count": 18,
   "metadata": {},
   "outputs": [],
   "source": [
    "import matrix_ops as mo\n",
    "from typing import Callable\n",
    "import numpy as np\n",
    "import time\n",
    "import matplotlib.pyplot as plt\n",
    "\n",
    "size = 14\n",
    "mat = mo.createRandomMatrix(size, size)\n",
    "vector = mo.createRandomMatrix(size, 1)\n",
    "\n",
    "mat_np = mo.matrixToNumpy(mat)\n",
    "vec_np = mo.matrixToNumpy(vector)"
   ]
  },
  {
   "cell_type": "markdown",
   "metadata": {},
   "source": [
    "### Test gauss algorithm"
   ]
  },
  {
   "cell_type": "code",
   "execution_count": 19,
   "metadata": {},
   "outputs": [],
   "source": [
    "sol = mo.matrixToNumpy(mo.gauss(mat, vector))\n",
    "assert np.allclose(sol, np.linalg.inv(mat_np) @ vec_np)"
   ]
  },
  {
   "cell_type": "code",
   "execution_count": 20,
   "metadata": {},
   "outputs": [],
   "source": [
    "sol = mo.matrixToNumpy(mo.gauss_pivoting(mat, vector))\n",
    "assert np.allclose(sol, np.linalg.inv(mo.matrixToNumpy(mat)) @ mo.matrixToNumpy(vector))"
   ]
  },
  {
   "cell_type": "markdown",
   "metadata": {},
   "source": [
    "## Test LU"
   ]
  },
  {
   "cell_type": "code",
   "execution_count": 36,
   "metadata": {},
   "outputs": [],
   "source": [
    "L, U = mo.LU(mat)\n",
    "L_np, U_np = mo.matrixToNumpy(L), mo.matrixToNumpy(U)\n",
    "\n",
    "assert np.allclose(L_np @ U_np, mat_np)\n",
    "assert np.allclose(np.triu(L_np), np.identity(14))\n",
    "assert np.allclose(np.tril(U_np, -1), np.zeros(14))"
   ]
  },
  {
   "cell_type": "code",
   "execution_count": 40,
   "metadata": {},
   "outputs": [],
   "source": [
    "P, L, U = mo.LU_pivoting(mat)\n",
    "P_np, L_np, U_np = mo.matrixToNumpy(P), mo.matrixToNumpy(L), mo.matrixToNumpy(U)\n",
    "\n",
    "assert np.allclose(P_np @ L_np @ U_np, mat_np)\n",
    "assert np.allclose(np.triu(L_np), np.identity(14))\n",
    "assert np.allclose(np.tril(U_np, -1), np.zeros(14))"
   ]
  }
 ],
 "metadata": {
  "kernelspec": {
   "display_name": "venv",
   "language": "python",
   "name": "python3"
  },
  "language_info": {
   "codemirror_mode": {
    "name": "ipython",
    "version": 3
   },
   "file_extension": ".py",
   "mimetype": "text/x-python",
   "name": "python",
   "nbconvert_exporter": "python",
   "pygments_lexer": "ipython3",
   "version": "3.12.4"
  }
 },
 "nbformat": 4,
 "nbformat_minor": 2
}
