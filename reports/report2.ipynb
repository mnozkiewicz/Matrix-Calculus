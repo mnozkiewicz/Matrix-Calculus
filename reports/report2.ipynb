{
 "cells": [
  {
   "cell_type": "code",
   "execution_count": 1,
   "metadata": {},
   "outputs": [],
   "source": [
    "import sys\n",
    "\n",
    "sys.path.append(\"../\")"
   ]
  },
  {
   "cell_type": "code",
   "execution_count": 2,
   "metadata": {},
   "outputs": [],
   "source": [
    "import matrix_ops as mo\n",
    "from typing import Callable\n",
    "import numpy as np\n",
    "import time\n",
    "import matplotlib.pyplot as plt\n",
    "\n",
    "size = 8\n",
    "mat1 = mo.createRandomMatrix(size, size)\n",
    "vector = mo.createRandomMatrix(size, 1)"
   ]
  },
  {
   "cell_type": "code",
   "execution_count": 3,
   "metadata": {},
   "outputs": [
    {
     "data": {
      "text/plain": [
       "0.205566 0.194355 0.249457 0.470835 0.226513 0.016635 0.852327 0.008199 \n",
       "0.916071 0.055802 0.234244 0.428011 0.120599 0.923969 0.562685 0.976223 \n",
       "0.663313 0.075567 0.028040 0.128524 0.928198 0.643376 0.956338 0.876162 \n",
       "0.965927 0.180996 0.082467 0.248694 0.075564 0.387001 0.602502 0.769967 \n",
       "0.209723 0.761173 0.045140 0.166346 0.248509 0.616068 0.132400 0.506918 \n",
       "0.651796 0.626835 0.812752 0.244001 0.137721 0.325688 0.042902 0.371777 \n",
       "0.066913 0.619228 0.094314 0.648488 0.406778 0.437662 0.356835 0.717500 \n",
       "0.170787 0.045655 0.096305 0.643609 0.890306 0.255641 0.946396 0.176856 "
      ]
     },
     "execution_count": 3,
     "metadata": {},
     "output_type": "execute_result"
    }
   ],
   "source": [
    "mat1"
   ]
  },
  {
   "cell_type": "code",
   "execution_count": 4,
   "metadata": {},
   "outputs": [
    {
     "data": {
      "text/plain": [
       "0.088093 \n",
       "0.950678 \n",
       "0.233978 \n",
       "0.756224 \n",
       "0.597670 \n",
       "0.782529 \n",
       "0.946683 \n",
       "0.571017 "
      ]
     },
     "execution_count": 4,
     "metadata": {},
     "output_type": "execute_result"
    }
   ],
   "source": [
    "vector"
   ]
  },
  {
   "cell_type": "code",
   "execution_count": 5,
   "metadata": {},
   "outputs": [],
   "source": [
    "sol = mo.gauss_pivoting(mat1, vector)"
   ]
  },
  {
   "cell_type": "code",
   "execution_count": 6,
   "metadata": {},
   "outputs": [
    {
     "data": {
      "text/plain": [
       "1.101911 \n",
       "0.244156 \n",
       "-0.576202 \n",
       "1.641443 \n",
       "0.445042 \n",
       "0.085035 \n",
       "-1.074472 \n",
       "-0.171693 "
      ]
     },
     "execution_count": 6,
     "metadata": {},
     "output_type": "execute_result"
    }
   ],
   "source": [
    "sol"
   ]
  },
  {
   "cell_type": "code",
   "execution_count": 7,
   "metadata": {},
   "outputs": [
    {
     "data": {
      "text/plain": [
       "array([[ 1.10191092],\n",
       "       [ 0.24415599],\n",
       "       [-0.57620202],\n",
       "       [ 1.64144302],\n",
       "       [ 0.4450423 ],\n",
       "       [ 0.0850353 ],\n",
       "       [-1.07447233],\n",
       "       [-0.17169324]])"
      ]
     },
     "execution_count": 7,
     "metadata": {},
     "output_type": "execute_result"
    }
   ],
   "source": [
    "sol = np.linalg.inv(mo.matrixToNumpy(mat1)) @ mo.matrixToNumpy(vector)\n",
    "sol"
   ]
  },
  {
   "cell_type": "code",
   "execution_count": 8,
   "metadata": {},
   "outputs": [
    {
     "data": {
      "text/plain": [
       "0.088093 \n",
       "0.950678 \n",
       "0.233978 \n",
       "0.756224 \n",
       "0.597670 \n",
       "0.782529 \n",
       "0.946683 \n",
       "0.571017 "
      ]
     },
     "execution_count": 8,
     "metadata": {},
     "output_type": "execute_result"
    }
   ],
   "source": [
    "mat1 @ mo.numpyToMatrix(sol)"
   ]
  },
  {
   "cell_type": "code",
   "execution_count": 12,
   "metadata": {},
   "outputs": [
    {
     "data": {
      "text/plain": [
       "(8, 8, 8, 8)"
      ]
     },
     "execution_count": 12,
     "metadata": {},
     "output_type": "execute_result"
    }
   ],
   "source": [
    "L, U = mo.LU(mat1)\n",
    "L.getHeight(), L.getWidth(), U.getHeight(), U.getWidth()"
   ]
  }
 ],
 "metadata": {
  "kernelspec": {
   "display_name": "venv",
   "language": "python",
   "name": "python3"
  },
  "language_info": {
   "codemirror_mode": {
    "name": "ipython",
    "version": 3
   },
   "file_extension": ".py",
   "mimetype": "text/x-python",
   "name": "python",
   "nbconvert_exporter": "python",
   "pygments_lexer": "ipython3",
   "version": "3.12.4"
  }
 },
 "nbformat": 4,
 "nbformat_minor": 2
}
