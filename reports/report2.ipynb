{
 "cells": [
  {
   "cell_type": "code",
   "execution_count": 1,
   "metadata": {},
   "outputs": [],
   "source": [
    "import sys\n",
    "\n",
    "sys.path.append(\"../\")"
   ]
  },
  {
   "cell_type": "code",
   "execution_count": 2,
   "metadata": {},
   "outputs": [],
   "source": [
    "import matrix_ops as mo\n",
    "from typing import Callable\n",
    "import numpy as np\n",
    "import time\n",
    "import matplotlib.pyplot as plt\n",
    "\n",
    "size = 8\n",
    "mat1 = mo.createRandomMatrix(size, size)\n",
    "vector = mo.createRandomMatrix(size, 1)"
   ]
  },
  {
   "cell_type": "code",
   "execution_count": 3,
   "metadata": {},
   "outputs": [
    {
     "data": {
      "text/plain": [
       "0.292508 0.880138 0.825998 0.974505 0.439335 0.148897 0.641915 0.957259 \n",
       "0.669546 0.759591 0.243375 0.669252 0.903345 0.330895 0.342227 0.501011 \n",
       "0.010111 0.082428 0.707511 0.041121 0.918669 0.836418 0.300671 0.126933 \n",
       "0.246864 0.566675 0.153979 0.665672 0.693722 0.031197 0.215024 0.331248 \n",
       "0.768584 0.931747 0.127858 0.467958 0.239266 0.347521 0.596400 0.114293 \n",
       "0.272658 0.787463 0.278931 0.592632 0.941908 0.656426 0.451956 0.342622 \n",
       "0.700110 0.753330 0.390224 0.341535 0.683760 0.443371 0.494209 0.543641 \n",
       "0.979669 0.060587 0.686559 0.046680 0.454356 0.345333 0.296480 0.806440 "
      ]
     },
     "execution_count": 3,
     "metadata": {},
     "output_type": "execute_result"
    }
   ],
   "source": [
    "mat1"
   ]
  },
  {
   "cell_type": "code",
   "execution_count": 4,
   "metadata": {},
   "outputs": [
    {
     "data": {
      "text/plain": [
       "0.873793 \n",
       "0.844908 \n",
       "0.352798 \n",
       "0.456503 \n",
       "0.355746 \n",
       "0.528028 \n",
       "0.162496 \n",
       "0.317274 "
      ]
     },
     "execution_count": 4,
     "metadata": {},
     "output_type": "execute_result"
    }
   ],
   "source": [
    "vector"
   ]
  },
  {
   "cell_type": "code",
   "execution_count": 8,
   "metadata": {},
   "outputs": [],
   "source": [
    "sol = mo.gauss_pivoting(mat1, vector)"
   ]
  },
  {
   "cell_type": "code",
   "execution_count": 9,
   "metadata": {},
   "outputs": [
    {
     "data": {
      "text/plain": [
       "0.910439 \n",
       "2.225840 \n",
       "2.582135 \n",
       "1.920945 \n",
       "-1.579751 \n",
       "2.130522 \n",
       "-6.570117 \n",
       "-0.796133 "
      ]
     },
     "execution_count": 9,
     "metadata": {},
     "output_type": "execute_result"
    }
   ],
   "source": [
    "sol"
   ]
  },
  {
   "cell_type": "code",
   "execution_count": 10,
   "metadata": {},
   "outputs": [
    {
     "data": {
      "text/plain": [
       "array([[ 0.91043926],\n",
       "       [ 2.22584014],\n",
       "       [ 2.58213452],\n",
       "       [ 1.92094497],\n",
       "       [-1.57975127],\n",
       "       [ 2.13052183],\n",
       "       [-6.57011673],\n",
       "       [-0.79613348]])"
      ]
     },
     "execution_count": 10,
     "metadata": {},
     "output_type": "execute_result"
    }
   ],
   "source": [
    "sol = np.linalg.inv(mo.matrixToNumpy(mat1)) @ mo.matrixToNumpy(vector)\n",
    "sol"
   ]
  },
  {
   "cell_type": "code",
   "execution_count": 8,
   "metadata": {},
   "outputs": [
    {
     "data": {
      "text/plain": [
       "0.874893 \n",
       "0.833826 \n",
       "0.435204 \n",
       "0.472812 \n",
       "0.832193 \n",
       "0.161563 \n",
       "0.269137 \n",
       "0.097915 "
      ]
     },
     "execution_count": 8,
     "metadata": {},
     "output_type": "execute_result"
    }
   ],
   "source": [
    "mat1 @ mo.numpyToMatrix(sol)"
   ]
  }
 ],
 "metadata": {
  "kernelspec": {
   "display_name": "venv",
   "language": "python",
   "name": "python3"
  },
  "language_info": {
   "codemirror_mode": {
    "name": "ipython",
    "version": 3
   },
   "file_extension": ".py",
   "mimetype": "text/x-python",
   "name": "python",
   "nbconvert_exporter": "python",
   "pygments_lexer": "ipython3",
   "version": "3.12.4"
  }
 },
 "nbformat": 4,
 "nbformat_minor": 2
}
