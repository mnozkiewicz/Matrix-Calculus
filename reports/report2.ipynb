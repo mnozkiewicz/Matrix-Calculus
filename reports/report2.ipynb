{
 "cells": [
  {
   "cell_type": "code",
   "execution_count": 1,
   "metadata": {},
   "outputs": [],
   "source": [
    "import sys\n",
    "\n",
    "sys.path.append(\"../\")"
   ]
  },
  {
   "cell_type": "code",
   "execution_count": 2,
   "metadata": {},
   "outputs": [],
   "source": [
    "import matrix_ops as mo\n",
    "from typing import Callable\n",
    "import numpy as np\n",
    "import time\n",
    "import matplotlib.pyplot as plt\n",
    "\n",
    "size = 8\n",
    "mat1 = mo.createRandomMatrix(size, size)\n",
    "vector = mo.createRandomMatrix(size, 1)"
   ]
  },
  {
   "cell_type": "code",
   "execution_count": 3,
   "metadata": {},
   "outputs": [
    {
     "data": {
      "text/plain": [
       "['Matrix',\n",
       " '__builtins__',\n",
       " '__cached__',\n",
       " '__doc__',\n",
       " '__file__',\n",
       " '__loader__',\n",
       " '__name__',\n",
       " '__package__',\n",
       " '__path__',\n",
       " '__spec__',\n",
       " 'binet',\n",
       " 'block_mul',\n",
       " 'createRandomMatrix',\n",
       " 'hybrid',\n",
       " 'matrixToNumpy',\n",
       " 'matrix_module',\n",
       " 'numpyToMatrix',\n",
       " 'strassen']"
      ]
     },
     "execution_count": 3,
     "metadata": {},
     "output_type": "execute_result"
    }
   ],
   "source": [
    "dir(mo)"
   ]
  },
  {
   "cell_type": "code",
   "execution_count": 3,
   "metadata": {},
   "outputs": [
    {
     "data": {
      "text/plain": [
       "0.211530 0.528218 0.814497 0.437591 0.289237 0.078869 0.224706 0.084117 \n",
       "0.706790 0.712735 0.401148 0.872630 0.407655 0.445511 0.148865 0.869995 \n",
       "0.393555 0.936984 0.961601 0.622538 0.612162 0.250925 0.627561 0.087788 \n",
       "0.650076 0.306808 0.852356 0.711540 0.582301 0.270864 0.849611 0.687053 \n",
       "0.544313 0.906204 0.767258 0.875526 0.026980 0.184317 0.905007 0.685764 \n",
       "0.582169 0.292846 0.731934 0.160322 0.848910 0.858101 0.052819 0.647196 \n",
       "0.091802 0.187878 0.579863 0.394584 0.476717 0.260645 0.011138 0.843664 \n",
       "0.453197 0.264655 0.906151 0.642186 0.837677 0.004790 0.355314 0.504386 "
      ]
     },
     "execution_count": 3,
     "metadata": {},
     "output_type": "execute_result"
    }
   ],
   "source": [
    "mat1"
   ]
  },
  {
   "cell_type": "code",
   "execution_count": 4,
   "metadata": {},
   "outputs": [
    {
     "data": {
      "text/plain": [
       "0.861020 \n",
       "0.622659 \n",
       "0.425295 \n",
       "0.235182 \n",
       "0.081529 \n",
       "0.233068 \n",
       "0.527867 \n",
       "0.497321 "
      ]
     },
     "execution_count": 4,
     "metadata": {},
     "output_type": "execute_result"
    }
   ],
   "source": [
    "vector"
   ]
  },
  {
   "cell_type": "code",
   "execution_count": 5,
   "metadata": {},
   "outputs": [
    {
     "ename": "AttributeError",
     "evalue": "module 'matrix_ops' has no attribute 'LU'",
     "output_type": "error",
     "traceback": [
      "\u001b[31m---------------------------------------------------------------------------\u001b[39m",
      "\u001b[31mAttributeError\u001b[39m                            Traceback (most recent call last)",
      "\u001b[36mCell\u001b[39m\u001b[36m \u001b[39m\u001b[32mIn[5]\u001b[39m\u001b[32m, line 1\u001b[39m\n\u001b[32m----> \u001b[39m\u001b[32m1\u001b[39m sol = \u001b[43mmo\u001b[49m\u001b[43m.\u001b[49m\u001b[43mLU\u001b[49m\n",
      "\u001b[31mAttributeError\u001b[39m: module 'matrix_ops' has no attribute 'LU'"
     ]
    }
   ],
   "source": [
    "sol = mo.LU"
   ]
  },
  {
   "cell_type": "code",
   "execution_count": 6,
   "metadata": {},
   "outputs": [
    {
     "data": {
      "text/plain": [
       "1.101911 \n",
       "0.244156 \n",
       "-0.576202 \n",
       "1.641443 \n",
       "0.445042 \n",
       "0.085035 \n",
       "-1.074472 \n",
       "-0.171693 "
      ]
     },
     "execution_count": 6,
     "metadata": {},
     "output_type": "execute_result"
    }
   ],
   "source": [
    "sol"
   ]
  },
  {
   "cell_type": "code",
   "execution_count": 7,
   "metadata": {},
   "outputs": [
    {
     "data": {
      "text/plain": [
       "array([[ 1.10191092],\n",
       "       [ 0.24415599],\n",
       "       [-0.57620202],\n",
       "       [ 1.64144302],\n",
       "       [ 0.4450423 ],\n",
       "       [ 0.0850353 ],\n",
       "       [-1.07447233],\n",
       "       [-0.17169324]])"
      ]
     },
     "execution_count": 7,
     "metadata": {},
     "output_type": "execute_result"
    }
   ],
   "source": [
    "sol = np.linalg.inv(mo.matrixToNumpy(mat1)) @ mo.matrixToNumpy(vector)\n",
    "sol"
   ]
  },
  {
   "cell_type": "code",
   "execution_count": 8,
   "metadata": {},
   "outputs": [
    {
     "data": {
      "text/plain": [
       "0.088093 \n",
       "0.950678 \n",
       "0.233978 \n",
       "0.756224 \n",
       "0.597670 \n",
       "0.782529 \n",
       "0.946683 \n",
       "0.571017 "
      ]
     },
     "execution_count": 8,
     "metadata": {},
     "output_type": "execute_result"
    }
   ],
   "source": [
    "mat1 @ mo.numpyToMatrix(sol)"
   ]
  },
  {
   "cell_type": "code",
   "execution_count": 12,
   "metadata": {},
   "outputs": [
    {
     "data": {
      "text/plain": [
       "(8, 8, 8, 8)"
      ]
     },
     "execution_count": 12,
     "metadata": {},
     "output_type": "execute_result"
    }
   ],
   "source": [
    "L, U = mo.LU(mat1)\n",
    "L.getHeight(), L.getWidth(), U.getHeight(), U.getWidth()"
   ]
  }
 ],
 "metadata": {
  "kernelspec": {
   "display_name": "venv",
   "language": "python",
   "name": "python3"
  },
  "language_info": {
   "codemirror_mode": {
    "name": "ipython",
    "version": 3
   },
   "file_extension": ".py",
   "mimetype": "text/x-python",
   "name": "python",
   "nbconvert_exporter": "python",
   "pygments_lexer": "ipython3",
   "version": "3.12.3"
  }
 },
 "nbformat": 4,
 "nbformat_minor": 2
}
