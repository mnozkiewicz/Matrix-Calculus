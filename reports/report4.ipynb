{
 "cells": [
  {
   "cell_type": "code",
   "id": "initial_id",
   "metadata": {
    "collapsed": true,
    "ExecuteTime": {
     "end_time": "2025-05-04T21:52:17.978779Z",
     "start_time": "2025-05-04T21:52:17.971803Z"
    }
   },
   "source": [
    "import numpy as np\n",
    "import matplotlib.pyplot as plt\n",
    "import seaborn as sns\n",
    "\n",
    "np.random.seed(42)\n",
    "n, m = 5, 3\n",
    "A = np.random.randn(n, m)\n",
    "\n",
    "print(\"Macierz A (5x3):\")\n",
    "print(A)"
   ],
   "outputs": [
    {
     "name": "stdout",
     "output_type": "stream",
     "text": [
      "Macierz A (5x3):\n",
      "[[ 0.49671415 -0.1382643   0.64768854]\n",
      " [ 1.52302986 -0.23415337 -0.23413696]\n",
      " [ 1.57921282  0.76743473 -0.46947439]\n",
      " [ 0.54256004 -0.46341769 -0.46572975]\n",
      " [ 0.24196227 -1.91328024 -1.72491783]]\n"
     ]
    }
   ],
   "execution_count": 200
  },
  {
   "metadata": {
    "ExecuteTime": {
     "end_time": "2025-05-04T21:52:18.017595Z",
     "start_time": "2025-05-04T21:52:18.012786Z"
    }
   },
   "cell_type": "code",
   "source": [
    "AAT = A @ A.T\n",
    "print(\"Macierz AAT = A * A^T:\")\n",
    "print(AAT)"
   ],
   "id": "7f4016f70453cf00",
   "outputs": [
    {
     "name": "stdout",
     "output_type": "stream",
     "text": [
      "Macierz AAT = A * A^T:\n",
      "[[ 0.68534241  0.63723771  0.37423535  0.03192355 -0.73248507]\n",
      " [ 0.63723771  2.42926786  2.33541214  1.04389051  1.2203838 ]\n",
      " [ 0.37423535  2.33541214  3.30327538  0.71982313 -0.27640305]\n",
      " [ 0.03192355  1.04389051  0.71982313  0.72603156  1.82127253]\n",
      " [-0.73248507  1.2203838  -0.27640305  1.82127253  6.69452856]]\n"
     ]
    }
   ],
   "execution_count": 201
  },
  {
   "metadata": {
    "ExecuteTime": {
     "end_time": "2025-05-04T21:52:18.227971Z",
     "start_time": "2025-05-04T21:52:18.221335Z"
    }
   },
   "cell_type": "code",
   "source": [
    "eigvals_U, eigvecs_U = np.linalg.eigh(AAT)\n",
    "\n",
    "sorted_indices = np.argsort(eigvals_U)[::-1]\n",
    "eigvals_U = eigvals_U[sorted_indices]\n",
    "eigvals_U = np.clip(eigvals_U, a_min=0, a_max=None)\n",
    "eigvecs_U = eigvecs_U[:, sorted_indices]\n",
    "\n",
    "\n",
    "print(\"Wartości własne AAT (λ):\")\n",
    "print(eigvals_U)\n",
    "print(\"----------\")\n",
    "print(\"Wektory własne AAT (macierz U):\")\n",
    "print(eigvecs_U)"
   ],
   "id": "d2d4b617c66a9b36",
   "outputs": [
    {
     "name": "stdout",
     "output_type": "stream",
     "text": [
      "Wartości własne AAT (λ):\n",
      "[7.74157056e+00 5.30293744e+00 7.93937784e-01 4.62238613e-16\n",
      " 0.00000000e+00]\n",
      "----------\n",
      "Wektory własne AAT (macierz U):\n",
      "[[-0.05270272 -0.18963358 -0.77197309  0.52168995 -0.30521905]\n",
      " [ 0.32414502 -0.53173651 -0.38304421 -0.4070005   0.54755274]\n",
      " [ 0.15872023 -0.74082394  0.49925089  0.37862819 -0.18269378]\n",
      " [ 0.29366099 -0.09983215 -0.08377416 -0.57209682 -0.75464155]\n",
      " [ 0.88358561  0.35001259  0.03263609  0.30254933  0.06454792]]\n"
     ]
    }
   ],
   "execution_count": 202
  },
  {
   "metadata": {
    "ExecuteTime": {
     "end_time": "2025-05-04T21:52:18.438623Z",
     "start_time": "2025-05-04T21:52:18.433205Z"
    }
   },
   "cell_type": "code",
   "source": [
    "S_diag = np.sqrt(eigvals_U)\n",
    "S = np.zeros((n, m))\n",
    "for i in range(min(n, m)):\n",
    "    S[i, i] = S_diag[i]\n",
    "\n",
    "print(\"Macierz S (diagonalna, Sii = sqrt(λi)):\")\n",
    "print(S)"
   ],
   "id": "e1d5f5c205d85fc7",
   "outputs": [
    {
     "name": "stdout",
     "output_type": "stream",
     "text": [
      "Macierz S (diagonalna, Sii = sqrt(λi)):\n",
      "[[2.7823678  0.         0.        ]\n",
      " [0.         2.30281077 0.        ]\n",
      " [0.         0.         0.89103186]\n",
      " [0.         0.         0.        ]\n",
      " [0.         0.         0.        ]]\n"
     ]
    }
   ],
   "execution_count": 203
  },
  {
   "metadata": {
    "ExecuteTime": {
     "end_time": "2025-05-04T21:52:18.527574Z",
     "start_time": "2025-05-04T21:52:18.519749Z"
    }
   },
   "cell_type": "code",
   "source": [
    "S_inv = np.zeros((m, m))\n",
    "for i in range(min(n, m)):\n",
    "    if S[i, i] != 0:\n",
    "        S_inv[i, i] = 1 / S[i, i]\n",
    "\n",
    "r = np.linalg.matrix_rank(A)\n",
    "U_r = eigvecs_U[:, :r]\n",
    "S_r = np.diag(np.sqrt(eigvals_U[:r]))\n",
    "S_inv = np.linalg.inv(S_r)\n",
    "\n",
    "V = (A.T @ U_r) @ S_inv\n",
    "\n",
    "print(\"Macierz V (z V = Uᵗ A S⁻¹):\")\n",
    "print(V)\n",
    "print(\"------------\")\n",
    "print(\"Macierz VT (wiersze wektorów własnych):\")\n",
    "print(V.T)"
   ],
   "id": "6522d0b7092e6e4f",
   "outputs": [
    {
     "name": "stdout",
     "output_type": "stream",
     "text": [
      "Macierz V (z V = Uᵗ A S⁻¹):\n",
      "[[ 0.39221288 -0.88736689 -0.24238207]\n",
      " [-0.63738516 -0.45214951  0.62393989]\n",
      " [-0.66325653 -0.09022653 -0.74293334]]\n",
      "------------\n",
      "Macierz VT (wiersze wektorów własnych):\n",
      "[[ 0.39221288 -0.63738516 -0.66325653]\n",
      " [-0.88736689 -0.45214951 -0.09022653]\n",
      " [-0.24238207  0.62393989 -0.74293334]]\n"
     ]
    }
   ],
   "execution_count": 204
  },
  {
   "metadata": {
    "ExecuteTime": {
     "end_time": "2025-05-04T21:52:18.571886Z",
     "start_time": "2025-05-04T21:52:18.563589Z"
    }
   },
   "cell_type": "code",
   "source": [
    "ATA = A.T @ A\n",
    "print(\"Macierz ATA = A^T * A:\")\n",
    "print(ATA)\n",
    "\n",
    "eigvals_V, eigvecs_V = np.linalg.eigh(ATA)\n",
    "sorted_indices = np.argsort(eigvals_V)[::-1]\n",
    "eigvals_V = eigvals_V[sorted_indices]\n",
    "eigvecs_V = eigvecs_V[:, sorted_indices]\n",
    "\n",
    "print(\"Wartości własne ATA:\")\n",
    "print(eigvals_V)\n",
    "print(\"----------------------\")\n",
    "print(\"Wektory własne ATA (macierz V):\")\n",
    "print(eigvecs_V)"
   ],
   "id": "88f7293ef32737ff",
   "outputs": [
    {
     "name": "stdout",
     "output_type": "stream",
     "text": [
      "Macierz ATA = A^T * A:\n",
      "[[ 5.41317515  0.07226879 -1.44633287]\n",
      " [ 0.07226879  4.53829814  3.12105943]\n",
      " [-1.44633287  3.12105943  3.88697249]]\n",
      "Wartości własne ATA:\n",
      "[7.74157056 5.30293744 0.79393778]\n",
      "----------------------\n",
      "Wektory własne ATA (macierz V):\n",
      "[[-0.39221288 -0.88736689 -0.24238207]\n",
      " [ 0.63738516 -0.45214951  0.62393989]\n",
      " [ 0.66325653 -0.09022653 -0.74293334]]\n"
     ]
    }
   ],
   "execution_count": 205
  },
  {
   "metadata": {
    "ExecuteTime": {
     "end_time": "2025-05-04T21:52:18.615626Z",
     "start_time": "2025-05-04T21:52:18.607918Z"
    }
   },
   "cell_type": "code",
   "source": [
    "S_diag2 = np.sqrt(eigvals_V)\n",
    "S2 = np.zeros((n, m))\n",
    "for i in range(min(n, m)):\n",
    "    S2[i, i] = S_diag2[i]\n",
    "\n",
    "print(\"Macierz S (z λ ATA):\")\n",
    "print(S2)\n",
    "print(\"----------------\")\n",
    "print(\"Macierz VT (wierszami):\")\n",
    "print(eigvecs_V.T)"
   ],
   "id": "a658b5c6f55591b6",
   "outputs": [
    {
     "name": "stdout",
     "output_type": "stream",
     "text": [
      "Macierz S (z λ ATA):\n",
      "[[2.7823678  0.         0.        ]\n",
      " [0.         2.30281077 0.        ]\n",
      " [0.         0.         0.89103186]\n",
      " [0.         0.         0.        ]\n",
      " [0.         0.         0.        ]]\n",
      "----------------\n",
      "Macierz VT (wierszami):\n",
      "[[-0.39221288  0.63738516  0.66325653]\n",
      " [-0.88736689 -0.45214951 -0.09022653]\n",
      " [-0.24238207  0.62393989 -0.74293334]]\n"
     ]
    }
   ],
   "execution_count": 206
  },
  {
   "metadata": {
    "ExecuteTime": {
     "end_time": "2025-05-04T21:52:18.665205Z",
     "start_time": "2025-05-04T21:52:18.659689Z"
    }
   },
   "cell_type": "code",
   "source": [
    "S_inv2 = np.zeros((m, m))\n",
    "for i in range(min(n, m)):\n",
    "    if S2[i, i] != 0:\n",
    "        S_inv2[i, i] = 1 / S2[i, i]\n",
    "\n",
    "U = A @ eigvecs_V @ S_inv2\n",
    "print(\"Macierz U (z A·V·S⁻¹):\")\n",
    "print(U)"
   ],
   "id": "ab0dd578a11d19f3",
   "outputs": [
    {
     "name": "stdout",
     "output_type": "stream",
     "text": [
      "Macierz U (z A·V·S⁻¹):\n",
      "[[ 0.05270272 -0.18963358 -0.77197309]\n",
      " [-0.32414502 -0.53173651 -0.38304421]\n",
      " [-0.15872023 -0.74082394  0.49925089]\n",
      " [-0.29366099 -0.09983215 -0.08377416]\n",
      " [-0.88358561  0.35001259  0.03263609]]\n"
     ]
    }
   ],
   "execution_count": 207
  },
  {
   "metadata": {
    "ExecuteTime": {
     "end_time": "2025-05-04T21:52:31.598742Z",
     "start_time": "2025-05-04T21:52:31.592660Z"
    }
   },
   "cell_type": "code",
   "source": [
    "r = np.linalg.matrix_rank(A)\n",
    "\n",
    "U1 = U_r\n",
    "S1 = S_r\n",
    "V1 = V.T \n",
    "\n",
    "# to czyni true\n",
    "# U1 = eigvecs_U\n",
    "# V1 = V\n",
    "# S1 = S\n",
    "\n",
    "U2 = U\n",
    "V2 = eigvecs_V\n",
    "S2 = S2\n",
    "\n",
    "print(\"Czy U z obu metod się zgadza:\", np.allclose(np.abs(U1[:, :r]), np.abs(U2)))\n",
    "print(\"Czy V z obu metod się zgadza:\", np.allclose(np.abs(V1.T[:, :r]), np.abs(V2.T)))"
   ],
   "id": "dbc605f2c461bd57",
   "outputs": [
    {
     "name": "stdout",
     "output_type": "stream",
     "text": [
      "Czy U z obu metod się zgadza: True\n",
      "Czy V z obu metod się zgadza: False\n"
     ]
    }
   ],
   "execution_count": 210
  },
  {
   "metadata": {
    "ExecuteTime": {
     "end_time": "2025-05-04T21:52:33.336196Z",
     "start_time": "2025-05-04T21:52:33.330314Z"
    }
   },
   "cell_type": "code",
   "source": [
    "A1 = U1 @ S1 @ V1\n",
    "print(\"Czy A1 = U1 S1 V1ᵗ odtwarza A:\", np.allclose(A, A1))\n",
    "\n",
    "A2 = U2[:, :r] @ S2[:r, :r] @ V2[:r, :].T\n",
    "print(\"Czy A2 = U2 S2 V2ᵗ odtwarza A:\", np.allclose(A, A2))"
   ],
   "id": "37ae94e099774f9d",
   "outputs": [
    {
     "name": "stdout",
     "output_type": "stream",
     "text": [
      "Czy A1 = U1 S1 V1ᵗ odtwarza A: True\n",
      "Czy A2 = U2 S2 V2ᵗ odtwarza A: True\n"
     ]
    }
   ],
   "execution_count": 211
  },
  {
   "metadata": {
    "ExecuteTime": {
     "end_time": "2025-05-04T21:52:36.588680Z",
     "start_time": "2025-05-04T21:52:36.583751Z"
    }
   },
   "cell_type": "code",
   "source": [
    "from scipy.linalg import subspace_angles\n",
    "\n",
    "angles = subspace_angles(V1.T[:, :r], V2[:, :r])\n",
    "print(\"Kąty między przestrzeniami wyznaczonymi przez V:\", angles)"
   ],
   "id": "8e0bcb38d8299ee6",
   "outputs": [
    {
     "name": "stdout",
     "output_type": "stream",
     "text": [
      "Kąty między przestrzeniami wyznaczonymi przez V: [2.33809455e-16 1.80512056e-16 1.97581847e-17]\n"
     ]
    }
   ],
   "execution_count": 212
  },
  {
   "metadata": {
    "ExecuteTime": {
     "end_time": "2025-05-04T21:52:18.773159700Z",
     "start_time": "2025-05-04T21:40:54.107291Z"
    }
   },
   "cell_type": "code",
   "source": [
    "S_diag = np.sqrt(np.clip(eigvals_V, 0, None))\n",
    "rank_A = np.sum(S_diag > 1e-10)\n",
    "\n",
    "dim_R = rank_A\n",
    "dim_N = m - rank_A\n",
    "\n",
    "print(\"dim R(A) =\", dim_R)\n",
    "print(\"dim N(A) =\", dim_N)"
   ],
   "id": "33b50027d4ef3468",
   "outputs": [
    {
     "name": "stdout",
     "output_type": "stream",
     "text": [
      "dim R(A) = 3\n",
      "dim N(A) = 0\n"
     ]
    }
   ],
   "execution_count": 190
  }
 ],
 "metadata": {
  "kernelspec": {
   "display_name": "Python 3",
   "language": "python",
   "name": "python3"
  },
  "language_info": {
   "codemirror_mode": {
    "name": "ipython",
    "version": 2
   },
   "file_extension": ".py",
   "mimetype": "text/x-python",
   "name": "python",
   "nbconvert_exporter": "python",
   "pygments_lexer": "ipython2",
   "version": "2.7.6"
  }
 },
 "nbformat": 4,
 "nbformat_minor": 5
}
