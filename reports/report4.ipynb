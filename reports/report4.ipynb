{
 "cells": [
  {
   "cell_type": "code",
   "id": "initial_id",
   "metadata": {
    "collapsed": true,
    "ExecuteTime": {
     "end_time": "2025-05-04T23:15:12.803747Z",
     "start_time": "2025-05-04T23:15:12.797108Z"
    }
   },
   "source": [
    "import numpy as np\n",
    "\n",
    "# np.random.seed(42)\n",
    "n, m = 3, 5\n",
    "A = np.array([\n",
    "    [3, 1],\n",
    "    [2, 2],\n",
    "    [0, 1]\n",
    "])\n",
    "n, m = A.shape\n",
    "r = np.linalg.matrix_rank(A)\n",
    "\n",
    "print(\"Macierz A (5x3):\")\n",
    "print(A)"
   ],
   "outputs": [
    {
     "name": "stdout",
     "output_type": "stream",
     "text": [
      "Macierz A (5x3):\n",
      "[[3 1]\n",
      " [2 2]\n",
      " [0 1]]\n"
     ]
    }
   ],
   "execution_count": 514
  },
  {
   "metadata": {
    "ExecuteTime": {
     "end_time": "2025-05-04T23:15:15.399463Z",
     "start_time": "2025-05-04T23:15:15.394121Z"
    }
   },
   "cell_type": "code",
   "source": [
    "AAT = A @ A.T\n",
    "print(\"Macierz AAT = A * A^T:\")\n",
    "print(AAT)"
   ],
   "id": "7f4016f70453cf00",
   "outputs": [
    {
     "name": "stdout",
     "output_type": "stream",
     "text": [
      "Macierz AAT = A * A^T:\n",
      "[[10  8  1]\n",
      " [ 8  8  2]\n",
      " [ 1  2  1]]\n"
     ]
    }
   ],
   "execution_count": 515
  },
  {
   "metadata": {
    "ExecuteTime": {
     "end_time": "2025-05-04T23:15:17.475908Z",
     "start_time": "2025-05-04T23:15:17.469878Z"
    }
   },
   "cell_type": "code",
   "source": [
    "eigvals_U, eigvecs_U = np.linalg.eigh(AAT)\n",
    "\n",
    "sorted_indices = np.argsort(eigvals_U)[::-1]\n",
    "eigvals_U = eigvals_U[sorted_indices]\n",
    "eigvals_U = np.clip(eigvals_U, a_min=0, a_max=None)\n",
    "eigvecs_U = eigvecs_U[:, sorted_indices]\n",
    "\n",
    "\n",
    "print(\"Wartości własne AAT (λ):\")\n",
    "print(eigvals_U)\n",
    "print(\"----------\")\n",
    "print(\"Wektory własne AAT (macierz U):\")\n",
    "print(eigvecs_U)"
   ],
   "id": "d2d4b617c66a9b36",
   "outputs": [
    {
     "name": "stdout",
     "output_type": "stream",
     "text": [
      "Wartości własne AAT (λ):\n",
      "[1.73262379e+01 1.67376208e+00 3.70496235e-16]\n",
      "----------\n",
      "Wektory własne AAT (macierz U):\n",
      "[[-0.73938702 -0.56158329  0.37139068]\n",
      " [-0.66132786  0.50229537 -0.55708601]\n",
      " [-0.12630238  0.65751317  0.74278135]]\n"
     ]
    }
   ],
   "execution_count": 516
  },
  {
   "metadata": {
    "ExecuteTime": {
     "end_time": "2025-05-04T23:15:25.939528Z",
     "start_time": "2025-05-04T23:15:25.933713Z"
    }
   },
   "cell_type": "code",
   "source": [
    "S_diag = np.sqrt(eigvals_U)\n",
    "S = np.zeros((n, m))\n",
    "for i in range(min(n, m)):\n",
    "    S[i, i] = S_diag[i]\n",
    "\n",
    "print(\"Macierz S (diagonalna, Sii = sqrt(λi)):\")\n",
    "print(S)"
   ],
   "id": "e1d5f5c205d85fc7",
   "outputs": [
    {
     "name": "stdout",
     "output_type": "stream",
     "text": [
      "Macierz S (diagonalna, Sii = sqrt(λi)):\n",
      "[[4.16247978 0.        ]\n",
      " [0.         1.29373957]\n",
      " [0.         0.        ]]\n"
     ]
    }
   ],
   "execution_count": 517
  },
  {
   "metadata": {
    "ExecuteTime": {
     "end_time": "2025-05-04T23:15:49.857472Z",
     "start_time": "2025-05-04T23:15:49.851387Z"
    }
   },
   "cell_type": "code",
   "source": [
    "S_inv = np.zeros((n, m))\n",
    "for i in range(min(n, m)):\n",
    "    if S[i, i] != 0:\n",
    "        S_inv[i, i] = 1 / S[i, i]\n",
    "\n",
    "\n",
    "# S_r = np.diag(np.sqrt(eigvals_U[:r]))\n",
    "# S_inv = np.linalg.inv(S_r)\n",
    "\n",
    "V = A.T @ eigvecs_U @ S_inv\n",
    "\n",
    "print(\"Macierz VT (wiersze wektorów własnych):\")\n",
    "print(V.T)"
   ],
   "id": "6522d0b7092e6e4f",
   "outputs": [
    {
     "name": "stdout",
     "output_type": "stream",
     "text": [
      "Macierz VT (wiersze wektorów własnych):\n",
      "[[-0.85065081 -0.52573111]\n",
      " [-0.52573111  0.85065081]]\n"
     ]
    }
   ],
   "execution_count": 519
  },
  {
   "metadata": {
    "ExecuteTime": {
     "end_time": "2025-05-04T23:15:50.835783Z",
     "start_time": "2025-05-04T23:15:50.828783Z"
    }
   },
   "cell_type": "code",
   "source": [
    "ATA = A.T @ A\n",
    "print(\"Macierz ATA = A^T * A:\")\n",
    "print(ATA)\n",
    "\n",
    "eigvals_V, eigvecs_V = np.linalg.eigh(ATA)\n",
    "eigvals_V = np.clip(eigvals_V, a_min=0, a_max=None)\n",
    "sorted_indices = np.argsort(eigvals_V)[::-1]\n",
    "eigvals_V = eigvals_V[sorted_indices]\n",
    "eigvecs_V = eigvecs_V[:, sorted_indices]\n",
    "\n",
    "print(\"--------------------\")\n",
    "print(\"Wartości własne ATA:\")\n",
    "print(eigvals_V)\n",
    "print(\"----------------------\")\n",
    "print(\"Wektory własne ATA (macierz V):\")\n",
    "print(eigvecs_V)"
   ],
   "id": "88f7293ef32737ff",
   "outputs": [
    {
     "name": "stdout",
     "output_type": "stream",
     "text": [
      "Macierz ATA = A^T * A:\n",
      "[[13  7]\n",
      " [ 7  6]]\n",
      "--------------------\n",
      "Wartości własne ATA:\n",
      "[17.32623792  1.67376208]\n",
      "----------------------\n",
      "Wektory własne ATA (macierz V):\n",
      "[[-0.85065081  0.52573111]\n",
      " [-0.52573111 -0.85065081]]\n"
     ]
    }
   ],
   "execution_count": 520
  },
  {
   "metadata": {
    "ExecuteTime": {
     "end_time": "2025-05-04T23:15:55.220732Z",
     "start_time": "2025-05-04T23:15:55.213792Z"
    }
   },
   "cell_type": "code",
   "source": [
    "S_diag2 = np.sqrt(eigvals_V)\n",
    "S2 = np.zeros((n, m))\n",
    "for i in range(min(n, m)):\n",
    "    S2[i, i] = S_diag2[i]\n",
    "\n",
    "print(\"Macierz S (z λ ATA):\")\n",
    "print(S2)\n",
    "print(\"----------------\")\n",
    "print(\"Macierz VT (wierszami):\")\n",
    "print(eigvecs_V.T)"
   ],
   "id": "a658b5c6f55591b6",
   "outputs": [
    {
     "name": "stdout",
     "output_type": "stream",
     "text": [
      "Macierz S (z λ ATA):\n",
      "[[4.16247978 0.        ]\n",
      " [0.         1.29373957]\n",
      " [0.         0.        ]]\n",
      "----------------\n",
      "Macierz VT (wierszami):\n",
      "[[-0.85065081 -0.52573111]\n",
      " [ 0.52573111 -0.85065081]]\n"
     ]
    }
   ],
   "execution_count": 521
  },
  {
   "metadata": {
    "ExecuteTime": {
     "end_time": "2025-05-04T23:15:57.452927Z",
     "start_time": "2025-05-04T23:15:57.447501Z"
    }
   },
   "cell_type": "code",
   "source": [
    "S_inv2 = np.zeros((n, m))\n",
    "for i in range(min(n, m)):\n",
    "    if S2[i, i] != 0:\n",
    "        S_inv2[i, i] = 1 / S2[i, i]\n",
    "\n",
    "U = A @ eigvecs_V @ S_inv2.T\n",
    "print(\"Macierz U (z A·V·S⁻¹):\")\n",
    "print(U)"
   ],
   "id": "ab0dd578a11d19f3",
   "outputs": [
    {
     "name": "stdout",
     "output_type": "stream",
     "text": [
      "Macierz U (z A·V·S⁻¹):\n",
      "[[-0.73938702  0.56158329  0.        ]\n",
      " [-0.66132786 -0.50229537  0.        ]\n",
      " [-0.12630238 -0.65751317  0.        ]]\n"
     ]
    }
   ],
   "execution_count": 522
  },
  {
   "metadata": {
    "ExecuteTime": {
     "end_time": "2025-05-04T23:16:00.157434Z",
     "start_time": "2025-05-04T23:16:00.149061Z"
    }
   },
   "cell_type": "code",
   "source": [
    "U1 = eigvecs_U\n",
    "V1 = V\n",
    "S1 = S\n",
    "\n",
    "U2 = U\n",
    "V2 = eigvecs_V\n",
    "S2 = S2\n",
    "\n",
    "print(\"Czy U z obu metod się zgadza:\", np.allclose(np.abs(U1[:, :r]), np.abs(U2[:, :r])))\n",
    "print(\"Czy S z obu metod się zgadza:\", np.allclose(np.abs(S1), np.abs(S2)))\n",
    "print(\"Czy V z obu metod się zgadza:\", np.allclose(np.abs(V1[:, :r]), np.abs(V2[:, :r])))"
   ],
   "id": "dbc605f2c461bd57",
   "outputs": [
    {
     "name": "stdout",
     "output_type": "stream",
     "text": [
      "Czy U z obu metod się zgadza: True\n",
      "Czy S z obu metod się zgadza: True\n",
      "Czy V z obu metod się zgadza: True\n"
     ]
    }
   ],
   "execution_count": 523
  },
  {
   "metadata": {
    "ExecuteTime": {
     "end_time": "2025-05-04T23:16:02.458810Z",
     "start_time": "2025-05-04T23:16:02.453341Z"
    }
   },
   "cell_type": "code",
   "source": [
    "A1 = U1 @ S1 @ V1.T\n",
    "print(\"Czy A1 = U1 S1 V1ᵗ odtwarza A:\", np.allclose(A, A1))\n",
    "\n",
    "A2 = U2 @ S2 @ V2.T\n",
    "print(\"Czy A2 = U2 S2 V2ᵗ odtwarza A:\", np.allclose(A, A2))"
   ],
   "id": "37ae94e099774f9d",
   "outputs": [
    {
     "name": "stdout",
     "output_type": "stream",
     "text": [
      "Czy A1 = U1 S1 V1ᵗ odtwarza A: True\n",
      "Czy A2 = U2 S2 V2ᵗ odtwarza A: True\n"
     ]
    }
   ],
   "execution_count": 524
  },
  {
   "metadata": {
    "ExecuteTime": {
     "end_time": "2025-05-04T23:16:22.286289Z",
     "start_time": "2025-05-04T23:16:22.279771Z"
    }
   },
   "cell_type": "code",
   "source": "A1",
   "id": "a2fc9db2569cc8ca",
   "outputs": [
    {
     "data": {
      "text/plain": [
       "array([[3.0000000e+00, 1.0000000e+00],\n",
       "       [2.0000000e+00, 2.0000000e+00],\n",
       "       [5.6494128e-16, 1.0000000e+00]])"
      ]
     },
     "execution_count": 526,
     "metadata": {},
     "output_type": "execute_result"
    }
   ],
   "execution_count": 526
  },
  {
   "metadata": {
    "ExecuteTime": {
     "end_time": "2025-05-04T23:16:37.116705Z",
     "start_time": "2025-05-04T23:16:37.110173Z"
    }
   },
   "cell_type": "code",
   "source": "A2",
   "id": "a9d94af05c7fb668",
   "outputs": [
    {
     "data": {
      "text/plain": [
       "array([[3.0000000e+00, 1.0000000e+00],\n",
       "       [2.0000000e+00, 2.0000000e+00],\n",
       "       [1.2127222e-17, 1.0000000e+00]])"
      ]
     },
     "execution_count": 527,
     "metadata": {},
     "output_type": "execute_result"
    }
   ],
   "execution_count": 527
  },
  {
   "metadata": {
    "ExecuteTime": {
     "end_time": "2025-05-04T23:16:57.651660Z",
     "start_time": "2025-05-04T23:16:57.645661Z"
    }
   },
   "cell_type": "code",
   "source": [
    "S_diag = np.sqrt(np.clip(eigvals_V, 0, None))\n",
    "rank_A = np.sum(S_diag > 1e-10)\n",
    "\n",
    "dim_R = rank_A\n",
    "dim_N = m - rank_A\n",
    "\n",
    "print(\"dim R(A) =\", dim_R)\n",
    "print(\"dim N(A) =\", dim_N)"
   ],
   "id": "33b50027d4ef3468",
   "outputs": [
    {
     "name": "stdout",
     "output_type": "stream",
     "text": [
      "dim R(A) = 2\n",
      "dim N(A) = 0\n"
     ]
    }
   ],
   "execution_count": 530
  }
 ],
 "metadata": {
  "kernelspec": {
   "display_name": "Python 3",
   "language": "python",
   "name": "python3"
  },
  "language_info": {
   "codemirror_mode": {
    "name": "ipython",
    "version": 2
   },
   "file_extension": ".py",
   "mimetype": "text/x-python",
   "name": "python",
   "nbconvert_exporter": "python",
   "pygments_lexer": "ipython2",
   "version": "2.7.6"
  }
 },
 "nbformat": 4,
 "nbformat_minor": 5
}
